{
  "nbformat": 4,
  "nbformat_minor": 0,
  "metadata": {
    "colab": {
      "name": "Copie de Untitled1.ipynb",
      "provenance": [],
      "authorship_tag": "ABX9TyNsfmShKOuF9lv3zi3ZuJOn",
      "include_colab_link": true
    },
    "kernelspec": {
      "name": "python3",
      "display_name": "Python 3"
    }
  },
  "cells": [
    {
      "cell_type": "markdown",
      "metadata": {
        "id": "view-in-github",
        "colab_type": "text"
      },
      "source": [
        "<a href=\"https://colab.research.google.com/github/MohamedAmin1997/PFE/blob/master/Copie_de_Untitled1.ipynb\" target=\"_parent\"><img src=\"https://colab.research.google.com/assets/colab-badge.svg\" alt=\"Open In Colab\"/></a>"
      ]
    },
    {
      "cell_type": "markdown",
      "metadata": {
        "id": "k1vYylKMhK-a"
      },
      "source": [
        ""
      ]
    },
    {
      "cell_type": "code",
      "metadata": {
        "colab": {
          "base_uri": "https://localhost:8080/"
        },
        "id": "nuSax7NkksDH",
        "outputId": "25e04ee7-723a-457c-ff6a-4fb6415293a7"
      },
      "source": [
        "import numpy  as np\n",
        "x = np.array([ 2 + 3j, 1j, 1])\n",
        "np.real(x) "
      ],
      "execution_count": null,
      "outputs": [
        {
          "output_type": "execute_result",
          "data": {
            "text/plain": [
              "array([2., 0., 1.])"
            ]
          },
          "metadata": {
            "tags": []
          },
          "execution_count": 39
        }
      ]
    },
    {
      "cell_type": "code",
      "metadata": {
        "colab": {
          "base_uri": "https://localhost:8080/"
        },
        "id": "DWTgFv28mQKo",
        "outputId": "ccd314c6-8403-41a0-9f3e-79e7f20e9012"
      },
      "source": [
        " np.imag(x)\n",
        "\n",
        " np.abs(x) "
      ],
      "execution_count": null,
      "outputs": [
        {
          "output_type": "execute_result",
          "data": {
            "text/plain": [
              "array([3.60555128, 1.        , 1.        ])"
            ]
          },
          "metadata": {
            "tags": []
          },
          "execution_count": 41
        }
      ]
    },
    {
      "cell_type": "code",
      "metadata": {
        "colab": {
          "base_uri": "https://localhost:8080/"
        },
        "id": "YpUI9p4GmaLF",
        "outputId": "d95840c5-7cf8-4f19-a325-b8e7f10c4407"
      },
      "source": [
        " np.imag(x)"
      ],
      "execution_count": null,
      "outputs": [
        {
          "output_type": "execute_result",
          "data": {
            "text/plain": [
              "array([3., 1., 0.])"
            ]
          },
          "metadata": {
            "tags": []
          },
          "execution_count": 42
        }
      ]
    },
    {
      "cell_type": "code",
      "metadata": {
        "colab": {
          "base_uri": "https://localhost:8080/"
        },
        "id": "LArJpUhymdJd",
        "outputId": "68b30ebe-9c05-46b6-dcca-5a246f55b02c"
      },
      "source": [
        "np.angle(x)"
      ],
      "execution_count": null,
      "outputs": [
        {
          "output_type": "execute_result",
          "data": {
            "text/plain": [
              "array([0.98279372, 1.57079633, 0.        ])"
            ]
          },
          "metadata": {
            "tags": []
          },
          "execution_count": 43
        }
      ]
    },
    {
      "cell_type": "code",
      "metadata": {
        "colab": {
          "base_uri": "https://localhost:8080/"
        },
        "id": "5TBzqFIjmffG",
        "outputId": "78965232-fe6f-4c4e-e173-c41a0d288ef7"
      },
      "source": [
        "np.conj(x)"
      ],
      "execution_count": null,
      "outputs": [
        {
          "output_type": "execute_result",
          "data": {
            "text/plain": [
              "array([2.-3.j, 0.-1.j, 1.-0.j])"
            ]
          },
          "metadata": {
            "tags": []
          },
          "execution_count": 44
        }
      ]
    },
    {
      "cell_type": "code",
      "metadata": {
        "colab": {
          "base_uri": "https://localhost:8080/"
        },
        "id": "5EGJ1IQVmi9-",
        "outputId": "fefcb36d-94b0-4eb2-9a8b-877f043f93eb"
      },
      "source": [
        "x = np.array([3.73637, 5.4374345])\n",
        "np.around(x,2)"
      ],
      "execution_count": null,
      "outputs": [
        {
          "output_type": "execute_result",
          "data": {
            "text/plain": [
              "array([3.74, 5.44])"
            ]
          },
          "metadata": {
            "tags": []
          },
          "execution_count": 45
        }
      ]
    },
    {
      "cell_type": "code",
      "metadata": {
        "colab": {
          "base_uri": "https://localhost:8080/"
        },
        "id": "GFJSpkc1mmS1",
        "outputId": "b0c5b6c7-dc21-439e-f69e-012bace31714"
      },
      "source": [
        "np.around(x,0) \n"
      ],
      "execution_count": null,
      "outputs": [
        {
          "output_type": "execute_result",
          "data": {
            "text/plain": [
              "array([4., 5.])"
            ]
          },
          "metadata": {
            "tags": []
          },
          "execution_count": 46
        }
      ]
    },
    {
      "cell_type": "code",
      "metadata": {
        "colab": {
          "base_uri": "https://localhost:8080/",
          "height": 265
        },
        "id": "VygkiV0gmqjV",
        "outputId": "390d7fbc-0d37-4573-90d0-bf79280ddfc5"
      },
      "source": [
        "import numpy as np\n",
        "import matplotlib.pyplot as plt\n",
        "x = np.linspace(-2, 2, 500)\n",
        "plt.plot(x, np.around(x,0), label=\"around(x,0)\")\n",
        "plt.plot(x, np.trunc(x), label=\"trunc(x)\")\n",
        "plt.legend()\n",
        "plt.show() "
      ],
      "execution_count": null,
      "outputs": [
        {
          "output_type": "display_data",
          "data": {
            "image/png": "[encoded data removed]",
            "text/plain": [
              "<Figure size 432x288 with 1 Axes>"
            ]
          },
          "metadata": {
            "tags": [],
            "needs_background": "light"
          }
        }
      ]
    },
    {
      "cell_type": "code",
      "metadata": {
        "colab": {
          "base_uri": "https://localhost:8080/"
        },
        "id": "7U8L4v4Rm4P7",
        "outputId": "7bdc31ae-dfbc-4f6a-a5a1-c9e95f660e18"
      },
      "source": [
        "np.random.random()\n"
      ],
      "execution_count": null,
      "outputs": [
        {
          "output_type": "execute_result",
          "data": {
            "text/plain": [
              "0.10284672191799826"
            ]
          },
          "metadata": {
            "tags": []
          },
          "execution_count": 48
        }
      ]
    },
    {
      "cell_type": "code",
      "metadata": {
        "colab": {
          "base_uri": "https://localhost:8080/"
        },
        "id": "Vb7t58wom7Zl",
        "outputId": "c69e97d9-44a0-42ba-bdea-de924a156b6e"
      },
      "source": [
        "np.random.random(3)"
      ],
      "execution_count": null,
      "outputs": [
        {
          "output_type": "execute_result",
          "data": {
            "text/plain": [
              "array([0.20422114, 0.68683375, 0.99649078])"
            ]
          },
          "metadata": {
            "tags": []
          },
          "execution_count": 49
        }
      ]
    },
    {
      "cell_type": "code",
      "metadata": {
        "colab": {
          "base_uri": "https://localhost:8080/"
        },
        "id": "hRnkHrzGm9_s",
        "outputId": "c0b33a01-614a-4358-8756-82c93c55f53c"
      },
      "source": [
        "np.random.random((2,3)) "
      ],
      "execution_count": null,
      "outputs": [
        {
          "output_type": "execute_result",
          "data": {
            "text/plain": [
              "array([[0.55676036, 0.9447102 , 0.4884951 ],\n",
              "       [0.23362697, 0.20088382, 0.63155172]])"
            ]
          },
          "metadata": {
            "tags": []
          },
          "execution_count": 50
        }
      ]
    },
    {
      "cell_type": "code",
      "metadata": {
        "colab": {
          "base_uri": "https://localhost:8080/",
          "height": 265
        },
        "id": "n6CWf0DFqag0",
        "outputId": "c198df2a-bc1f-4fcc-900f-95e9edd2db1e"
      },
      "source": [
        "import numpy as np\n",
        "import matplotlib.pyplot as plt\n",
        "\n",
        "nbx = 101\n",
        "x = np.linspace(0, 10, nbx)\n",
        "y = np.cos(x)\n",
        "\n",
        "# préparation des tableaux qui vont recevoir les valeurs\n",
        "xnew = np.zeros(nbx-1)\n",
        "yp = np.zeros(nbx-1)\n",
        "\n",
        "# calcul des abscisses et des valeurs de la dérivée\n",
        "for i in range(nbx-1): \n",
        "    xnew[i] = (x[i] + x[i+1]) / 2\n",
        "    yp[i] = (y[i+1] - y[i]) / (x[i+1] - x[i])\n",
        "\n",
        "plt.plot(x, y, label=\"f(x)\")\n",
        "plt.plot(xnew, yp, label=\"f'(x)\")\n",
        "\n",
        "plt.legend()\n",
        "plt.show() "
      ],
      "execution_count": null,
      "outputs": [
        {
          "output_type": "display_data",
          "data": {
            "image/png": "[encoded data removed]",
            "text/plain": [
              "<Figure size 432x288 with 1 Axes>"
            ]
          },
          "metadata": {
            "tags": [],
            "needs_background": "light"
          }
        }
      ]
    },
    {
      "cell_type": "code",
      "metadata": {
        "colab": {
          "base_uri": "https://localhost:8080/",
          "height": 265
        },
        "id": "zhdX33ujqkOD",
        "outputId": "a1dd0178-8df3-437b-c4fc-7cda9f4b8065"
      },
      "source": [
        "import numpy as np\n",
        "import matplotlib.pyplot as plt\n",
        "\n",
        "nbx = 101\n",
        "x = np.linspace(0, 10, nbx)\n",
        "y = np.cos(x)\n",
        "\n",
        "# préparation du tableau qui va recevoir les valeurs\n",
        "yp = np.zeros(nbx-1)\n",
        "\n",
        "# calcul des valeurs de la dérivée\n",
        "for i in range(nbx-1): \n",
        "    yp[i] = (y[i+1] - y[i]) / (x[i+1] - x[i])\n",
        "\n",
        "plt.plot(x, y, label=\"f(x)\")\n",
        "plt.plot(x[0:nbx-1], yp, label=\"f'(x)\")\n",
        "\n",
        "plt.legend()\n",
        "plt.show() "
      ],
      "execution_count": null,
      "outputs": [
        {
          "output_type": "display_data",
          "data": {
            "image/png": "[encoded data removed]",
            "text/plain": [
              "<Figure size 432x288 with 1 Axes>"
            ]
          },
          "metadata": {
            "tags": [],
            "needs_background": "light"
          }
        }
      ]
    },
    {
      "cell_type": "code",
      "metadata": {
        "colab": {
          "base_uri": "https://localhost:8080/",
          "height": 265
        },
        "id": "qMPlS8Xpq256",
        "outputId": "22583c94-fc1f-4320-d63c-d475171dbc97"
      },
      "source": [
        "import numpy as np\n",
        "import matplotlib.pyplot as plt\n",
        "\n",
        "nbx = 101\n",
        "x = np.linspace(0, 10, nbx)\n",
        "y = np.cos(x)\n",
        "\n",
        "# calcul des abscisses et des valeurs de la dérivée\n",
        "xnew = (x[:-1] + x[1:]) / 2\n",
        "yp = (y[1:] - y[:-1]) / (x[1:] - x[:-1])\n",
        "\n",
        "plt.plot(x, y, label=\"f(x)\")\n",
        "plt.plot(xnew, yp, label=\"f'(x)\")\n",
        "\n",
        "plt.legend()\n",
        "plt.show()"
      ],
      "execution_count": null,
      "outputs": [
        {
          "output_type": "display_data",
          "data": {
            "image/png": "[encoded data removed]",
            "text/plain": [
              "<Figure size 432x288 with 1 Axes>"
            ]
          },
          "metadata": {
            "tags": [],
            "needs_background": "light"
          }
        }
      ]
    },
    {
      "cell_type": "code",
      "metadata": {
        "colab": {
          "base_uri": "https://localhost:8080/",
          "height": 265
        },
        "id": "0B2PSreKq5nh",
        "outputId": "94117856-7a89-4f98-9f51-7a8ed503d561"
      },
      "source": [
        "import numpy as np\n",
        "import matplotlib.pyplot as plt\n",
        "\n",
        "nbx = 101\n",
        "x = np.linspace(0, 10, nbx)\n",
        "y = np.cos(x)\n",
        "\n",
        "# calcul des valeurs de la dérivée\n",
        "yp = (y[1:] - y[:-1]) / (x[1:] - x[:-1])\n",
        "\n",
        "plt.plot(x, y, label=\"f(x)\")\n",
        "plt.plot(x[:-1], yp, label=\"f'(x)\")\n",
        "\n",
        "plt.legend()\n",
        "plt.show()"
      ],
      "execution_count": null,
      "outputs": [
        {
          "output_type": "display_data",
          "data": {
            "image/png": "[encoded data removed]",
            "text/plain": [
              "<Figure size 432x288 with 1 Axes>"
            ]
          },
          "metadata": {
            "tags": [],
            "needs_background": "light"
          }
        }
      ]
    },
    {
      "cell_type": "code",
      "metadata": {
        "colab": {
          "base_uri": "https://localhost:8080/",
          "height": 265
        },
        "id": "hNipegKtq9jO",
        "outputId": "a993c77b-6e6e-467a-b7ee-1092a4945b21"
      },
      "source": [
        "import numpy as np\n",
        "import matplotlib.pyplot as plt\n",
        "\n",
        "nbx = 101\n",
        "x = np.linspace(0, 10, nbx)\n",
        "y = np.cos(x)\n",
        "h = x[1]-x[0] # calcul du pas\n",
        "\n",
        "# calcul des valeurs de la dérivée\n",
        "yp = (y[1:] - y[:-1]) / h\n",
        "\n",
        "plt.plot(x, y, label=\"f(x)\")\n",
        "plt.plot(x[:-1], yp, label=\"f'(x)\")\n",
        "\n",
        "plt.legend()\n",
        "plt.show()"
      ],
      "execution_count": null,
      "outputs": [
        {
          "output_type": "display_data",
          "data": {
            "image/png": "[encoded data removed]",
            "text/plain": [
              "<Figure size 432x288 with 1 Axes>"
            ]
          },
          "metadata": {
            "tags": [],
            "needs_background": "light"
          }
        }
      ]
    },
    {
      "cell_type": "code",
      "metadata": {
        "colab": {
          "base_uri": "https://localhost:8080/"
        },
        "id": "Ru4QwgVnvdwV",
        "outputId": "aca8de03-2c37-4e2d-e968-f73bfc980972"
      },
      "source": [
        "import numpy as np\n",
        "np.pi"
      ],
      "execution_count": null,
      "outputs": [
        {
          "output_type": "execute_result",
          "data": {
            "text/plain": [
              "3.141592653589793"
            ]
          },
          "metadata": {
            "tags": []
          },
          "execution_count": 57
        }
      ]
    },
    {
      "cell_type": "code",
      "metadata": {
        "colab": {
          "base_uri": "https://localhost:8080/"
        },
        "id": "N0FIJCOCwNSp",
        "outputId": "e6a06bae-e709-4548-8d17-1c7ab9f6767c"
      },
      "source": [
        "a = np.array([[1, 2, 3], [4, 5, 6]])\n",
        "print (a)"
      ],
      "execution_count": null,
      "outputs": [
        {
          "output_type": "stream",
          "text": [
            "[[1 2 3]\n",
            " [4 5 6]]\n"
          ],
          "name": "stdout"
        }
      ]
    },
    {
      "cell_type": "code",
      "metadata": {
        "colab": {
          "base_uri": "https://localhost:8080/"
        },
        "id": "aqaqW31RxmY7",
        "outputId": "5281d054-2c24-4244-8dd1-cee1418be4b1"
      },
      "source": [
        "a = np.array([[1, 2, 3],[4, 5, 6]])\n",
        "type(a)\n"
      ],
      "execution_count": null,
      "outputs": [
        {
          "output_type": "execute_result",
          "data": {
            "text/plain": [
              "numpy.ndarray"
            ]
          },
          "metadata": {
            "tags": []
          },
          "execution_count": 70
        }
      ]
    },
    {
      "cell_type": "code",
      "metadata": {
        "colab": {
          "base_uri": "https://localhost:8080/"
        },
        "id": "JXYnnsPiyMV4",
        "outputId": "a72a9ba2-b47e-4f64-9b25-db9d66a1df08"
      },
      "source": [
        "a[0,1]"
      ],
      "execution_count": null,
      "outputs": [
        {
          "output_type": "execute_result",
          "data": {
            "text/plain": [
              "2"
            ]
          },
          "metadata": {
            "tags": []
          },
          "execution_count": 71
        }
      ]
    },
    {
      "cell_type": "code",
      "metadata": {
        "colab": {
          "base_uri": "https://localhost:8080/"
        },
        "id": "8uXXSmHhyRWA",
        "outputId": "39d6ba24-aa41-4bc4-a687-b8728def4206"
      },
      "source": [
        "m = np.arange(3, 15, 2)\n",
        "m = np.array([ 3, 5, 7, 9, 11, 13])\n",
        "type(m)"
      ],
      "execution_count": null,
      "outputs": [
        {
          "output_type": "execute_result",
          "data": {
            "text/plain": [
              "numpy.ndarray"
            ]
          },
          "metadata": {
            "tags": []
          },
          "execution_count": 75
        }
      ]
    },
    {
      "cell_type": "code",
      "metadata": {
        "colab": {
          "base_uri": "https://localhost:8080/"
        },
        "id": "B8T_xC_syi5C",
        "outputId": "929923fc-5470-4a72-9693-d0b5bf73815b"
      },
      "source": [
        "n = range(3, 15, 2)\n",
        "n = range(3, 15, 2)\n",
        "type(n)"
      ],
      "execution_count": null,
      "outputs": [
        {
          "output_type": "execute_result",
          "data": {
            "text/plain": [
              "range"
            ]
          },
          "metadata": {
            "tags": []
          },
          "execution_count": 77
        }
      ]
    },
    {
      "cell_type": "code",
      "metadata": {
        "colab": {
          "base_uri": "https://localhost:8080/"
        },
        "id": "aTZiMZF1yrNg",
        "outputId": "f3791b1e-ad03-4e9e-8039-328260ef974f"
      },
      "source": [
        "u = [3, 7, 10]\n",
        "type(u)"
      ],
      "execution_count": null,
      "outputs": [
        {
          "output_type": "execute_result",
          "data": {
            "text/plain": [
              "list"
            ]
          },
          "metadata": {
            "tags": []
          },
          "execution_count": 78
        }
      ]
    },
    {
      "cell_type": "code",
      "metadata": {
        "colab": {
          "base_uri": "https://localhost:8080/"
        },
        "id": "2qyXeUiYy1TA",
        "outputId": "8388495f-5b75-4905-a3fc-493547cae17f"
      },
      "source": [
        "list(range(3, 15, 2))\n"
      ],
      "execution_count": null,
      "outputs": [
        {
          "output_type": "execute_result",
          "data": {
            "text/plain": [
              "[3, 5, 7, 9, 11, 13]"
            ]
          },
          "metadata": {
            "tags": []
          },
          "execution_count": 79
        }
      ]
    },
    {
      "cell_type": "code",
      "metadata": {
        "colab": {
          "base_uri": "https://localhost:8080/"
        },
        "id": "NmMeiRe3y8Bw",
        "outputId": "52563da5-dcdb-4fbc-926e-61c2a4516169"
      },
      "source": [
        "np.arange(0, 11*np.pi, np.pi) "
      ],
      "execution_count": null,
      "outputs": [
        {
          "output_type": "execute_result",
          "data": {
            "text/plain": [
              "array([ 0.        ,  3.14159265,  6.28318531,  9.42477796, 12.56637061,\n",
              "       15.70796327, 18.84955592, 21.99114858, 25.13274123, 28.27433388,\n",
              "       31.41592654])"
            ]
          },
          "metadata": {
            "tags": []
          },
          "execution_count": 80
        }
      ]
    },
    {
      "cell_type": "code",
      "metadata": {
        "colab": {
          "base_uri": "https://localhost:8080/"
        },
        "id": "V03XvtA_zAWQ",
        "outputId": "a2cd4d73-364a-45b4-8e6c-e779a15232ad"
      },
      "source": [
        "np.linspace(3, 9, 10)"
      ],
      "execution_count": null,
      "outputs": [
        {
          "output_type": "execute_result",
          "data": {
            "text/plain": [
              "array([3.        , 3.66666667, 4.33333333, 5.        , 5.66666667,\n",
              "       6.33333333, 7.        , 7.66666667, 8.33333333, 9.        ])"
            ]
          },
          "metadata": {
            "tags": []
          },
          "execution_count": 81
        }
      ]
    },
    {
      "cell_type": "code",
      "metadata": {
        "id": "L187G5vcCdMR"
      },
      "source": [
        "x = np.linspace(-np.pi/2, np.pi/2, 3)\n",
        "x = np.array([-1.57079633, 0. , 1.57079633])\n",
        "y= np.sin(x)\n",
        "y = np.array([-1., 0., 1.])"
      ],
      "execution_count": null,
      "outputs": []
    },
    {
      "cell_type": "code",
      "metadata": {
        "colab": {
          "base_uri": "https://localhost:8080/"
        },
        "id": "OyIsQZXCCy-Y",
        "outputId": "96f75198-3ea4-4f64-e868-72fa487f959c"
      },
      "source": [
        "from pylab import *\n",
        "pi "
      ],
      "execution_count": null,
      "outputs": [
        {
          "output_type": "execute_result",
          "data": {
            "text/plain": [
              "3.141592653589793"
            ]
          },
          "metadata": {
            "tags": []
          },
          "execution_count": 88
        }
      ]
    },
    {
      "cell_type": "code",
      "metadata": {
        "colab": {
          "base_uri": "https://localhost:8080/"
        },
        "id": "UgEqRJ-1C4se",
        "outputId": "67941998-657f-4592-f797-1f8798064db0"
      },
      "source": [
        "a = array([[1, 2, 3],[4, 5, 6]])\n",
        "print (a)"
      ],
      "execution_count": null,
      "outputs": [
        {
          "output_type": "stream",
          "text": [
            "[[1 2 3]\n",
            " [4 5 6]]\n"
          ],
          "name": "stdout"
        }
      ]
    },
    {
      "cell_type": "code",
      "metadata": {
        "colab": {
          "base_uri": "https://localhost:8080/"
        },
        "id": "KVrhoe9VDLtO",
        "outputId": "ad7b0361-8e9e-431d-91d0-18e122e76557"
      },
      "source": [
        " m = arange(3,15,2)\n",
        " m = array([ 3, 5, 7, 9, 11, 13])\n",
        "print(m)"
      ],
      "execution_count": null,
      "outputs": [
        {
          "output_type": "stream",
          "text": [
            "[ 3  5  7  9 11 13]\n"
          ],
          "name": "stdout"
        }
      ]
    },
    {
      "cell_type": "code",
      "metadata": {
        "colab": {
          "base_uri": "https://localhost:8080/"
        },
        "id": "WKvXMsTzDV29",
        "outputId": "24609ff0-0880-4cd4-b18b-c886d11db9e9"
      },
      "source": [
        "arange(0,11*pi,pi)"
      ],
      "execution_count": null,
      "outputs": [
        {
          "output_type": "execute_result",
          "data": {
            "text/plain": [
              "array([ 0.        ,  3.14159265,  6.28318531,  9.42477796, 12.56637061,\n",
              "       15.70796327, 18.84955592, 21.99114858, 25.13274123, 28.27433388,\n",
              "       31.41592654])"
            ]
          },
          "metadata": {
            "tags": []
          },
          "execution_count": 93
        }
      ]
    },
    {
      "cell_type": "code",
      "metadata": {
        "colab": {
          "base_uri": "https://localhost:8080/"
        },
        "id": "JuYk4vnGDfEw",
        "outputId": "e65db775-b4a8-4096-9e1b-b764ee4199b4"
      },
      "source": [
        "linspace(3,9,10)\n"
      ],
      "execution_count": null,
      "outputs": [
        {
          "output_type": "execute_result",
          "data": {
            "text/plain": [
              "array([3.        , 3.66666667, 4.33333333, 5.        , 5.66666667,\n",
              "       6.33333333, 7.        , 7.66666667, 8.33333333, 9.        ])"
            ]
          },
          "metadata": {
            "tags": []
          },
          "execution_count": 94
        }
      ]
    },
    {
      "cell_type": "code",
      "metadata": {
        "colab": {
          "base_uri": "https://localhost:8080/"
        },
        "id": "LL0YURgSDq3R",
        "outputId": "631fb7f3-ea9a-44a4-b8e1-b89465195f00"
      },
      "source": [
        "x = linspace(-pi/2, pi/2, 3)\n",
        "print (x)\n"
      ],
      "execution_count": null,
      "outputs": [
        {
          "output_type": "stream",
          "text": [
            "[-1.57079633  0.          1.57079633]\n"
          ],
          "name": "stdout"
        }
      ]
    },
    {
      "cell_type": "code",
      "metadata": {
        "colab": {
          "base_uri": "https://localhost:8080/"
        },
        "id": "ywuXNpaXD7hw",
        "outputId": "d881747f-22ab-4d21-d8d1-b5f1f0e56922"
      },
      "source": [
        "y = sin(x)\n",
        "print(x)"
      ],
      "execution_count": null,
      "outputs": [
        {
          "output_type": "stream",
          "text": [
            "[-1.57079633  0.          1.57079633]\n"
          ],
          "name": "stdout"
        }
      ]
    },
    {
      "cell_type": "code",
      "metadata": {
        "colab": {
          "base_uri": "https://localhost:8080/"
        },
        "id": "NekN_8jlEu7i",
        "outputId": "9e216158-56a2-4200-ee7e-26da00b4f3b7"
      },
      "source": [
        "import numpy as np \n",
        "a = np.array([4,7,9])\n",
        "a\n"
      ],
      "execution_count": null,
      "outputs": [
        {
          "output_type": "execute_result",
          "data": {
            "text/plain": [
              "array([4, 7, 9])"
            ]
          },
          "metadata": {
            "tags": []
          },
          "execution_count": 101
        }
      ]
    },
    {
      "cell_type": "code",
      "metadata": {
        "colab": {
          "base_uri": "https://localhost:8080/"
        },
        "id": "9uVJTwpXFOVv",
        "outputId": "425876a1-e195-4211-8818-3c48bb2e9d4f"
      },
      "source": [
        "type(a)"
      ],
      "execution_count": null,
      "outputs": [
        {
          "output_type": "execute_result",
          "data": {
            "text/plain": [
              "numpy.ndarray"
            ]
          },
          "metadata": {
            "tags": []
          },
          "execution_count": 102
        }
      ]
    },
    {
      "cell_type": "code",
      "metadata": {
        "colab": {
          "base_uri": "https://localhost:8080/"
        },
        "id": "nU8FCqbKFVYZ",
        "outputId": "1b6f3b1b-344f-4ec8-b3a4-df6b9ddee5da"
      },
      "source": [
        "a = np.array([[1, 2, 3], [4, 5, 6]])\n",
        "a"
      ],
      "execution_count": null,
      "outputs": [
        {
          "output_type": "execute_result",
          "data": {
            "text/plain": [
              "array([[1, 2, 3],\n",
              "       [4, 5, 6]])"
            ]
          },
          "metadata": {
            "tags": []
          },
          "execution_count": 103
        }
      ]
    },
    {
      "cell_type": "code",
      "metadata": {
        "colab": {
          "base_uri": "https://localhost:8080/"
        },
        "id": "b5R6QbYNFZ-4",
        "outputId": "a30fadc8-dff4-4def-d01e-164e0470b641"
      },
      "source": [
        "a = np.array([2,5,6,8])\n",
        ">>> np.size(a)"
      ],
      "execution_count": null,
      "outputs": [
        {
          "output_type": "execute_result",
          "data": {
            "text/plain": [
              "4"
            ]
          },
          "metadata": {
            "tags": []
          },
          "execution_count": 104
        }
      ]
    },
    {
      "cell_type": "code",
      "metadata": {
        "colab": {
          "base_uri": "https://localhost:8080/"
        },
        "id": "yfrsbqcuFeqA",
        "outputId": "5ffa0561-db87-4a1b-d2de-37192172c59d"
      },
      "source": [
        "b = np.array([[1, 2, 3],\n",
        "[4, 5, 6]])\n",
        "np.size(b)"
      ],
      "execution_count": null,
      "outputs": [
        {
          "output_type": "execute_result",
          "data": {
            "text/plain": [
              "6"
            ]
          },
          "metadata": {
            "tags": []
          },
          "execution_count": 105
        }
      ]
    },
    {
      "cell_type": "code",
      "metadata": {
        "colab": {
          "base_uri": "https://localhost:8080/"
        },
        "id": "bcK_6o0IFrZH",
        "outputId": "55423c62-4fa4-468e-9863-146cc1053162"
      },
      "source": [
        "a = np.array([2,5,6,8])\n",
        "np.shape(a)"
      ],
      "execution_count": null,
      "outputs": [
        {
          "output_type": "execute_result",
          "data": {
            "text/plain": [
              "(4,)"
            ]
          },
          "metadata": {
            "tags": []
          },
          "execution_count": 106
        }
      ]
    },
    {
      "cell_type": "code",
      "metadata": {
        "colab": {
          "base_uri": "https://localhost:8080/"
        },
        "id": "QQVLsUhRFzbB",
        "outputId": "18978e49-ac13-494e-ddff-638b6d71e2c5"
      },
      "source": [
        " b = np.array([[1, 2, 3],\n",
        "[4, 5, 6]])\n",
        " np.shape(b)"
      ],
      "execution_count": null,
      "outputs": [
        {
          "output_type": "execute_result",
          "data": {
            "text/plain": [
              "(2, 3)"
            ]
          },
          "metadata": {
            "tags": []
          },
          "execution_count": 107
        }
      ]
    },
    {
      "cell_type": "code",
      "metadata": {
        "colab": {
          "base_uri": "https://localhost:8080/"
        },
        "id": "3g8VT0NEGLhy",
        "outputId": "c81df923-ed25-439b-e2c7-7450932962e1"
      },
      "source": [
        "a = np.array([[1, 2, 3],\n",
        "[4, 5, 6]])\n",
        "b = np.array([[2, 1, 3],\n",
        "[3, 2, 1]])\n",
        "a*b"
      ],
      "execution_count": null,
      "outputs": [
        {
          "output_type": "execute_result",
          "data": {
            "text/plain": [
              "array([[ 2,  2,  9],\n",
              "       [12, 10,  6]])"
            ]
          },
          "metadata": {
            "tags": []
          },
          "execution_count": 108
        }
      ]
    },
    {
      "cell_type": "code",
      "metadata": {
        "colab": {
          "base_uri": "https://localhost:8080/"
        },
        "id": "S7LX6SGgGT4B",
        "outputId": "275df4ae-c4a5-4ab7-8127-280b3cc5f5fc"
      },
      "source": [
        "a = np.array([[1, 2, 3],\n",
        "[4, 5, 6]])\n",
        "b = np.array([[4],\n",
        "[2],\n",
        "[1]])\n",
        "np.dot(a,b)"
      ],
      "execution_count": null,
      "outputs": [
        {
          "output_type": "execute_result",
          "data": {
            "text/plain": [
              "array([[11],\n",
              "       [32]])"
            ]
          },
          "metadata": {
            "tags": []
          },
          "execution_count": 109
        }
      ]
    },
    {
      "cell_type": "code",
      "metadata": {
        "colab": {
          "base_uri": "https://localhost:8080/"
        },
        "id": "GruZgoOqGkvd",
        "outputId": "b4f70a20-7067-407c-c36f-5da10d99ed19"
      },
      "source": [
        "a.T"
      ],
      "execution_count": null,
      "outputs": [
        {
          "output_type": "execute_result",
          "data": {
            "text/plain": [
              "array([[1, 4],\n",
              "       [2, 5],\n",
              "       [3, 6]])"
            ]
          },
          "metadata": {
            "tags": []
          },
          "execution_count": 111
        }
      ]
    },
    {
      "cell_type": "code",
      "metadata": {
        "colab": {
          "base_uri": "https://localhost:8080/"
        },
        "id": "jcI0zh1jGuPc",
        "outputId": "2364c178-2dff-4e51-9f6f-4ce704b23858"
      },
      "source": [
        "u = np.array([[ 2j, 4+3j],\n",
        "[2+5j, 5 ],\n",
        "[ 3, 6+2j]])\n",
        "np.conj(u)"
      ],
      "execution_count": null,
      "outputs": [
        {
          "output_type": "execute_result",
          "data": {
            "text/plain": [
              "array([[0.-2.j, 4.-3.j],\n",
              "       [2.-5.j, 5.-0.j],\n",
              "       [3.-0.j, 6.-2.j]])"
            ]
          },
          "metadata": {
            "tags": []
          },
          "execution_count": 112
        }
      ]
    },
    {
      "cell_type": "code",
      "metadata": {
        "colab": {
          "base_uri": "https://localhost:8080/"
        },
        "id": "Hozm_NzYG1lu",
        "outputId": "9ff37096-bdbd-441e-9a20-de01531c49bb"
      },
      "source": [
        "np.conj(u).T"
      ],
      "execution_count": null,
      "outputs": [
        {
          "output_type": "execute_result",
          "data": {
            "text/plain": [
              "array([[0.-2.j, 2.-5.j, 3.-0.j],\n",
              "       [4.-3.j, 5.-0.j, 6.-2.j]])"
            ]
          },
          "metadata": {
            "tags": []
          },
          "execution_count": 113
        }
      ]
    },
    {
      "cell_type": "code",
      "metadata": {
        "colab": {
          "base_uri": "https://localhost:8080/"
        },
        "id": "q27eK8KxPJy-",
        "outputId": "4d82c1ea-030e-4ab2-ae1c-5a19c685a0a9"
      },
      "source": [
        "a = array([[1, 2, 3],\n",
        "[4, 5, 6]])\n",
        "a[0,1]"
      ],
      "execution_count": null,
      "outputs": [
        {
          "output_type": "execute_result",
          "data": {
            "text/plain": [
              "2"
            ]
          },
          "metadata": {
            "tags": []
          },
          "execution_count": 117
        }
      ]
    },
    {
      "cell_type": "code",
      "metadata": {
        "colab": {
          "base_uri": "https://localhost:8080/"
        },
        "id": "zIzpUTNwPWs3",
        "outputId": "c32e4957-8cc4-4cad-ec45-07c297298846"
      },
      "source": [
        "a[:,1:3]\n"
      ],
      "execution_count": null,
      "outputs": [
        {
          "output_type": "execute_result",
          "data": {
            "text/plain": [
              "array([[2, 3],\n",
              "       [5, 6]])"
            ]
          },
          "metadata": {
            "tags": []
          },
          "execution_count": 118
        }
      ]
    },
    {
      "cell_type": "code",
      "metadata": {
        "colab": {
          "base_uri": "https://localhost:8080/"
        },
        "id": "FSbr3HX4PlX6",
        "outputId": "760eee39-4b4e-4fbb-d8df-97044de8bd07"
      },
      "source": [
        "zeros(3)"
      ],
      "execution_count": null,
      "outputs": [
        {
          "output_type": "execute_result",
          "data": {
            "text/plain": [
              "array([0., 0., 0.])"
            ]
          },
          "metadata": {
            "tags": []
          },
          "execution_count": 119
        }
      ]
    },
    {
      "cell_type": "code",
      "metadata": {
        "colab": {
          "base_uri": "https://localhost:8080/"
        },
        "id": "_8jeYcC9PrJl",
        "outputId": "3d6cd48e-353d-4920-87a5-606c9d293259"
      },
      "source": [
        "zeros((2,3))"
      ],
      "execution_count": null,
      "outputs": [
        {
          "output_type": "execute_result",
          "data": {
            "text/plain": [
              "array([[0., 0., 0.],\n",
              "       [0., 0., 0.]])"
            ]
          },
          "metadata": {
            "tags": []
          },
          "execution_count": 120
        }
      ]
    },
    {
      "cell_type": "code",
      "metadata": {
        "colab": {
          "base_uri": "https://localhost:8080/"
        },
        "id": "VP6KVweyP0H1",
        "outputId": "305ca092-af82-49b2-d5af-70209218cd67"
      },
      "source": [
        "ones(3)"
      ],
      "execution_count": null,
      "outputs": [
        {
          "output_type": "execute_result",
          "data": {
            "text/plain": [
              "array([1., 1., 1.])"
            ]
          },
          "metadata": {
            "tags": []
          },
          "execution_count": 121
        }
      ]
    },
    {
      "cell_type": "code",
      "metadata": {
        "colab": {
          "base_uri": "https://localhost:8080/"
        },
        "id": "QbLbPSOGP7ok",
        "outputId": "354eb081-3ab5-40ff-8ad8-a9c649a10dda"
      },
      "source": [
        "eye(3)"
      ],
      "execution_count": null,
      "outputs": [
        {
          "output_type": "execute_result",
          "data": {
            "text/plain": [
              "array([[1., 0., 0.],\n",
              "       [0., 1., 0.],\n",
              "       [0., 0., 1.]])"
            ]
          },
          "metadata": {
            "tags": []
          },
          "execution_count": 123
        }
      ]
    },
    {
      "cell_type": "code",
      "metadata": {
        "colab": {
          "base_uri": "https://localhost:8080/"
        },
        "id": "QuDBzXzjQT-q",
        "outputId": "ff426799-064b-49b3-e0e5-53c0fb6bd00b"
      },
      "source": [
        "a = array([[1, 2],\n",
        "[3, 4]])\n",
        "det(a)"
      ],
      "execution_count": null,
      "outputs": [
        {
          "output_type": "execute_result",
          "data": {
            "text/plain": [
              "-2.0000000000000004"
            ]
          },
          "metadata": {
            "tags": []
          },
          "execution_count": 124
        }
      ]
    },
    {
      "cell_type": "code",
      "metadata": {
        "colab": {
          "base_uri": "https://localhost:8080/"
        },
        "id": "uKyio-gDQ0lq",
        "outputId": "501149f6-a7c0-43dd-f690-91e6f9e093c3"
      },
      "source": [
        "a = array([[1, 3, 3],\n",
        "[1, 4, 3],\n",
        "[1, 3, 4]])\n",
        "inv(a)"
      ],
      "execution_count": null,
      "outputs": [
        {
          "output_type": "execute_result",
          "data": {
            "text/plain": [
              "array([[ 7., -3., -3.],\n",
              "       [-1.,  1.,  0.],\n",
              "       [-1.,  0.,  1.]])"
            ]
          },
          "metadata": {
            "tags": []
          },
          "execution_count": 125
        }
      ]
    },
    {
      "cell_type": "code",
      "metadata": {
        "colab": {
          "base_uri": "https://localhost:8080/"
        },
        "id": "4ugexUXiRCan",
        "outputId": "d0f1d470-f18f-4067-b110-618868adecaa"
      },
      "source": [
        "a = array([[3,1], [1,2]])\n",
        "b = array([9,8])\n",
        "x = solve(a, b)\n",
        "x"
      ],
      "execution_count": null,
      "outputs": [
        {
          "output_type": "execute_result",
          "data": {
            "text/plain": [
              "array([2., 3.])"
            ]
          },
          "metadata": {
            "tags": []
          },
          "execution_count": 128
        }
      ]
    },
    {
      "cell_type": "code",
      "metadata": {
        "colab": {
          "base_uri": "https://localhost:8080/"
        },
        "id": "-Rag8bmFRTAR",
        "outputId": "2a14f549-b88a-42b6-ec84-194507749b85"
      },
      "source": [
        "allclose(dot(a, x), b)"
      ],
      "execution_count": null,
      "outputs": [
        {
          "output_type": "execute_result",
          "data": {
            "text/plain": [
              "True"
            ]
          },
          "metadata": {
            "tags": []
          },
          "execution_count": 129
        }
      ]
    },
    {
      "cell_type": "code",
      "metadata": {
        "colab": {
          "base_uri": "https://localhost:8080/"
        },
        "id": "wvElKcFQRftg",
        "outputId": "1dab75bb-1a30-4a0f-bd94-39b2b91986bc"
      },
      "source": [
        "u = arange(1,16)\n",
        "u"
      ],
      "execution_count": null,
      "outputs": [
        {
          "output_type": "execute_result",
          "data": {
            "text/plain": [
              "array([ 1,  2,  3,  4,  5,  6,  7,  8,  9, 10, 11, 12, 13, 14, 15])"
            ]
          },
          "metadata": {
            "tags": []
          },
          "execution_count": 130
        }
      ]
    },
    {
      "cell_type": "code",
      "metadata": {
        "colab": {
          "base_uri": "https://localhost:8080/"
        },
        "id": "8V_rLkkdRjmI",
        "outputId": "5a9d7d42-2d35-49eb-a932-aee3368c90f4"
      },
      "source": [
        "shape(u)\n",
        "(15,)"
      ],
      "execution_count": null,
      "outputs": [
        {
          "output_type": "execute_result",
          "data": {
            "text/plain": [
              "(15,)"
            ]
          },
          "metadata": {
            "tags": []
          },
          "execution_count": 131
        }
      ]
    },
    {
      "cell_type": "code",
      "metadata": {
        "colab": {
          "base_uri": "https://localhost:8080/"
        },
        "id": "RRku_83zRm9A",
        "outputId": "e454168c-10a1-4b80-f161-b8c29c548497"
      },
      "source": [
        "u.shape = (3,5)\n",
        "u"
      ],
      "execution_count": null,
      "outputs": [
        {
          "output_type": "execute_result",
          "data": {
            "text/plain": [
              "array([[ 1,  2,  3,  4,  5],\n",
              "       [ 6,  7,  8,  9, 10],\n",
              "       [11, 12, 13, 14, 15]])"
            ]
          },
          "metadata": {
            "tags": []
          },
          "execution_count": 132
        }
      ]
    },
    {
      "cell_type": "code",
      "metadata": {
        "colab": {
          "base_uri": "https://localhost:8080/"
        },
        "id": "HVWT4_NVR39Z",
        "outputId": "5d7cc6e2-eaa0-4de1-b917-8973ef31235a"
      },
      "source": [
        "a = arange(1,6)\n",
        "a"
      ],
      "execution_count": null,
      "outputs": [
        {
          "output_type": "execute_result",
          "data": {
            "text/plain": [
              "array([1, 2, 3, 4, 5])"
            ]
          },
          "metadata": {
            "tags": []
          },
          "execution_count": 133
        }
      ]
    },
    {
      "cell_type": "code",
      "metadata": {
        "colab": {
          "base_uri": "https://localhost:8080/"
        },
        "id": "aLcyU8n7R59w",
        "outputId": "08439954-44c1-43d1-c0cb-bd26104991c7"
      },
      "source": [
        "a.shape = (1,size(a))\n",
        "a"
      ],
      "execution_count": null,
      "outputs": [
        {
          "output_type": "execute_result",
          "data": {
            "text/plain": [
              "array([[1, 2, 3, 4, 5]])"
            ]
          },
          "metadata": {
            "tags": []
          },
          "execution_count": 134
        }
      ]
    }
  ]
}